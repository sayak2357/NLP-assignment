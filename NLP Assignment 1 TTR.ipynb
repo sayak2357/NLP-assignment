{
 "cells": [
  {
   "cell_type": "code",
   "execution_count": 2,
   "metadata": {},
   "outputs": [],
   "source": [
    "f = open(\"book.txt\")"
   ]
  },
  {
   "cell_type": "markdown",
   "metadata": {},
   "source": [
    "#Function for clearing tokens"
   ]
  },
  {
   "cell_type": "code",
   "execution_count": 6,
   "metadata": {},
   "outputs": [],
   "source": [
    "import operator\n",
    "import re, string\n",
    "def clearup(s, chars):\n",
    "    return re.sub('[%s]' % chars, '', s).lower()"
   ]
  },
  {
   "cell_type": "markdown",
   "metadata": {},
   "source": [
    "#Funtion for tokenizing types and calculate occurances"
   ]
  },
  {
   "cell_type": "code",
   "execution_count": 4,
   "metadata": {},
   "outputs": [],
   "source": [
    "dict ={}\n",
    "count = 0\n",
    "for tem in f:\n",
    "   \n",
    "    word = tem.split()\n",
    "    \n",
    "    for words in word:\n",
    "        words = words.lower()\n",
    "        words = clearup(words, string.punctuation+string.digits)\n",
    "        if words in dict.keys():\n",
    "            inc = dict[words]\n",
    "            inc+=1\n",
    "            dict[words] = inc\n",
    "        else:\n",
    "            dict[words]=1"
   ]
  },
  {
   "cell_type": "code",
   "execution_count": 8,
   "metadata": {},
   "outputs": [],
   "source": [
    "# Sort the Dictionary on the value field i.e the count of token occurances"
   ]
  },
  {
   "cell_type": "code",
   "execution_count": 10,
   "metadata": {},
   "outputs": [],
   "source": [
    "sorted_d = sorted(dict.items(), key=operator.itemgetter(1))\n",
    "des_sorted = sorted_d[::-1]   # sorted_d is a tuple "
   ]
  },
  {
   "cell_type": "code",
   "execution_count": 11,
   "metadata": {},
   "outputs": [],
   "source": [
    "#Calculate type, tokens and TTR"
   ]
  },
  {
   "cell_type": "code",
   "execution_count": 12,
   "metadata": {},
   "outputs": [
    {
     "name": "stdout",
     "output_type": "stream",
     "text": [
      "types = 9325\n",
      "tokens = 72753\n",
      "TTR = 0.128173408657\n"
     ]
    }
   ],
   "source": [
    "types = 0\n",
    "tokens = 0\n",
    "\n",
    "for k,v in dict.items():\n",
    "    types+=1\n",
    "    tokens+=v\n",
    "ttr = float(types)/float(tokens)     \n",
    "print 'types =',types\n",
    "print 'tokens =', tokens\n",
    "print  'TTR =', ttr "
   ]
  }
 ],
 "metadata": {
  "kernelspec": {
   "display_name": "Python 2",
   "language": "python",
   "name": "python2"
  },
  "language_info": {
   "codemirror_mode": {
    "name": "ipython",
    "version": 2
   },
   "file_extension": ".py",
   "mimetype": "text/x-python",
   "name": "python",
   "nbconvert_exporter": "python",
   "pygments_lexer": "ipython2",
   "version": "2.7.15"
  }
 },
 "nbformat": 4,
 "nbformat_minor": 2
}
