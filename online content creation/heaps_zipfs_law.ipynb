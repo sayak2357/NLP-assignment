{
 "cells": [
  {
   "cell_type": "markdown",
   "metadata": {},
   "source": [
    "#                       Heaps Law on Type and Tokens                                                       #"
   ]
  },
  {
   "cell_type": "code",
   "execution_count": 1,
   "metadata": {},
   "outputs": [],
   "source": [
    "from nltk.tokenize import sent_tokenize, word_tokenize\n"
   ]
  },
  {
   "cell_type": "markdown",
   "metadata": {},
   "source": [
    "# Import NLTK tokenizers"
   ]
  },
  {
   "cell_type": "code",
   "execution_count": 27,
   "metadata": {},
   "outputs": [],
   "source": [
    "dict1={}\n",
    "dict2={}\n",
    "dict3={}\n",
    "dict4={}\n",
    "dict5={}\n",
    "dict6={}\n",
    "dict7={}\n",
    "dict8={}\n",
    "tk1=0\n",
    "tk2=0\n",
    "tk3=0\n",
    "tk4=0\n",
    "tk5=0\n",
    "tk6=0\n",
    "tk7=0\n",
    "tk8=0\n",
    "vocab1=0\n",
    "vocab2=0\n",
    "vocab3=0\n",
    "vocab4=0\n",
    "vocab5=0\n",
    "vocab6=0\n",
    "vocab7=0\n",
    "vocab8=0\n"
   ]
  },
  {
   "cell_type": "markdown",
   "metadata": {},
   "source": [
    "# Initialize Counters"
   ]
  },
  {
   "cell_type": "code",
   "execution_count": 28,
   "metadata": {},
   "outputs": [],
   "source": [
    "f=open('agatha.txt')\n",
    "for sen in f:\n",
    "    sentences = sent_tokenize(sen)\n",
    "    for words in sentences:\n",
    "        comp_words = word_tokenize(words)\n",
    "        for cw in comp_words:\n",
    "            cw=cw.lower()\n",
    "            if cw.isalpha():\n",
    "                #print(cw)\n",
    "                if cw in dict1:\n",
    "                    inc = dict1[cw]\n",
    "                    inc+=1\n",
    "                    dict1[cw] = inc\n",
    "                    tk1+=1\n",
    "                else:\n",
    "                    dict1[cw]=1\n",
    "                    tk1+=1\n",
    "f.close()"
   ]
  },
  {
   "cell_type": "code",
   "execution_count": 29,
   "metadata": {},
   "outputs": [],
   "source": [
    "f=open('candid.txt')\n",
    "for sen in f:\n",
    "    sentences = sent_tokenize(sen)\n",
    "    for words in sentences:\n",
    "        comp_words = word_tokenize(words)\n",
    "        for cw in comp_words:\n",
    "            cw=cw.lower()\n",
    "            if cw.isalpha():\n",
    "                #print(cw)\n",
    "                if cw in dict2:\n",
    "                    inc = dict2[cw]\n",
    "                    inc+=1\n",
    "                    dict2[cw] = inc\n",
    "                    tk2+=1\n",
    "                else:\n",
    "                    dict2[cw]=1\n",
    "                    tk2+=1\n",
    "f.close()"
   ]
  },
  {
   "cell_type": "code",
   "execution_count": 30,
   "metadata": {},
   "outputs": [],
   "source": [
    "f=open('emma.txt')\n",
    "for sen in f:\n",
    "    sentences = sent_tokenize(sen)\n",
    "    for words in sentences:\n",
    "        comp_words = word_tokenize(words)\n",
    "        for cw in comp_words:\n",
    "            cw=cw.lower()\n",
    "            if cw.isalpha():\n",
    "                #print(cw)\n",
    "                if cw in dict3:\n",
    "                    inc = dict3[cw]\n",
    "                    inc+=1\n",
    "                    dict3[cw] = inc\n",
    "                    tk3+=1\n",
    "                else:\n",
    "                    dict3[cw]=1\n",
    "                    tk3+=1\n",
    "f.close()"
   ]
  },
  {
   "cell_type": "code",
   "execution_count": 31,
   "metadata": {},
   "outputs": [],
   "source": [
    "f=open('huckle.txt')\n",
    "for sen in f:\n",
    "    sentences = sent_tokenize(sen)\n",
    "    for words in sentences:\n",
    "        comp_words = word_tokenize(words)\n",
    "        for cw in comp_words:\n",
    "            cw=cw.lower()\n",
    "            if cw.isalpha():\n",
    "                #print(cw)\n",
    "                if cw in dict4:\n",
    "                    inc = dict4[cw]\n",
    "                    inc+=1\n",
    "                    dict4[cw] = inc\n",
    "                    tk4+=1\n",
    "                else:\n",
    "                    dict4[cw]=1\n",
    "                    tk4+=1\n",
    "f.close()"
   ]
  },
  {
   "cell_type": "code",
   "execution_count": 32,
   "metadata": {},
   "outputs": [],
   "source": [
    "f=open('jackal.txt')\n",
    "for sen in f:\n",
    "    sentences = sent_tokenize(sen)\n",
    "    for words in sentences:\n",
    "        comp_words = word_tokenize(words)\n",
    "        for cw in comp_words:\n",
    "            cw=cw.lower()\n",
    "            if cw.isalpha():\n",
    "                #print(cw)\n",
    "                if cw in dict5:\n",
    "                    inc = dict5[cw]\n",
    "                    inc+=1\n",
    "                    dict5[cw] = inc\n",
    "                    tk5+=1\n",
    "                else:\n",
    "                    dict5[cw]=1\n",
    "                    tk5+=1\n",
    "f.close()"
   ]
  },
  {
   "cell_type": "code",
   "execution_count": 33,
   "metadata": {},
   "outputs": [],
   "source": [
    "f=open('pride.txt')\n",
    "for sen in f:\n",
    "    sentences = sent_tokenize(sen)\n",
    "    for words in sentences:\n",
    "        comp_words = word_tokenize(words)\n",
    "        for cw in comp_words:\n",
    "            cw=cw.lower()\n",
    "            if cw.isalpha():\n",
    "                #print(cw)\n",
    "                if cw in dict6:\n",
    "                    inc = dict6[cw]\n",
    "                    inc+=1\n",
    "                    dict6[cw] = inc\n",
    "                    tk6+=1\n",
    "                else:\n",
    "                    dict6[cw]=1\n",
    "                    tk6+=1\n",
    "f.close()"
   ]
  },
  {
   "cell_type": "code",
   "execution_count": 34,
   "metadata": {},
   "outputs": [],
   "source": [
    "f=open('twocities.txt')\n",
    "for sen in f:\n",
    "    sentences = sent_tokenize(sen)\n",
    "    for words in sentences:\n",
    "        comp_words = word_tokenize(words)\n",
    "        for cw in comp_words:\n",
    "            cw=cw.lower()\n",
    "            if cw.isalpha():\n",
    "                #print(cw)\n",
    "                if cw in dict7:\n",
    "                    inc = dict7[cw]\n",
    "                    inc+=1\n",
    "                    dict7[cw] = inc\n",
    "                    tk7+=1\n",
    "                else:\n",
    "                    dict7[cw]=1\n",
    "                    tk7+=1\n",
    "f.close()"
   ]
  },
  {
   "cell_type": "code",
   "execution_count": 35,
   "metadata": {},
   "outputs": [],
   "source": [
    "f=open('warpeace.txt')\n",
    "for sen in f:\n",
    "    sentences = sent_tokenize(sen)\n",
    "    for words in sentences:\n",
    "        comp_words = word_tokenize(words)\n",
    "        for cw in comp_words:\n",
    "            cw=cw.lower()\n",
    "            if cw.isalpha():\n",
    "                #print(cw)\n",
    "                if cw in dict8:\n",
    "                    inc = dict8[cw]\n",
    "                    inc+=1\n",
    "                    dict8[cw] = inc\n",
    "                    tk8+=1\n",
    "                else:\n",
    "                    dict8[cw]=1\n",
    "                    tk8+=1\n",
    "f.close()"
   ]
  },
  {
   "cell_type": "markdown",
   "metadata": {},
   "source": [
    "# Type and Token count of all books"
   ]
  },
  {
   "cell_type": "code",
   "execution_count": 36,
   "metadata": {},
   "outputs": [],
   "source": [
    "vocab1=len(dict1)\n",
    "vocab2=len(dict2)\n",
    "vocab3=len(dict3)\n",
    "vocab4=len(dict4)\n",
    "vocab5=len(dict5)\n",
    "vocab6=len(dict6)\n",
    "vocab7=len(dict7)\n",
    "vocab8=len(dict8)\n"
   ]
  },
  {
   "cell_type": "code",
   "execution_count": 37,
   "metadata": {},
   "outputs": [],
   "source": [
    "datasetx=[vocab1,vocab2,vocab3,vocab4,vocab5,vocab6,vocab7,vocab8]\n",
    "datasety=[tk1,tk2,tk3,tk4,tk5,tk6,tk7,tk8]"
   ]
  },
  {
   "cell_type": "code",
   "execution_count": 38,
   "metadata": {},
   "outputs": [],
   "source": [
    "import matplotlib.pyplot as plt"
   ]
  },
  {
   "cell_type": "code",
   "execution_count": 39,
   "metadata": {},
   "outputs": [
    {
     "data": {
      "image/png": "[encoded data removed]",
      "text/plain": [
       "<Figure size 432x288 with 1 Axes>"
      ]
     },
     "metadata": {},
     "output_type": "display_data"
    }
   ],
   "source": [
    "plt.scatter(datasetx,datasety)\n",
    "plt.title(\"HEAP'S LAW plot type vs token\")\n",
    "\n",
    "\n",
    "plt.xlabel('Type')\n",
    "plt.ylabel('Token')\n",
    "plt.show()"
   ]
  },
  {
   "cell_type": "markdown",
   "metadata": {},
   "source": [
    "# HEAP'S LAW PLOT"
   ]
  },
  {
   "cell_type": "markdown",
   "metadata": {},
   "source": [
    "# ------------------------------------------------------------------------------------------------------------#"
   ]
  },
  {
   "cell_type": "markdown",
   "metadata": {},
   "source": [
    "#                          Zipf's Law on Word Length and Frequency                                #"
   ]
  },
  {
   "cell_type": "code",
   "execution_count": 40,
   "metadata": {},
   "outputs": [],
   "source": [
    "f=open('agatha.txt')\n",
    "dict={}"
   ]
  },
  {
   "cell_type": "code",
   "execution_count": 41,
   "metadata": {},
   "outputs": [],
   "source": [
    "for sen in f:\n",
    "    sentences = sent_tokenize(sen)\n",
    "    for words in sentences:\n",
    "        comp_words = word_tokenize(words)\n",
    "        for cw in comp_words:\n",
    "            cw=cw.lower()\n",
    "            if cw.isalpha():\n",
    "                #print(cw)\n",
    "                if cw in dict:\n",
    "                    inc = dict[cw]\n",
    "                    inc+=1\n",
    "                    dict[cw] = inc\n",
    "                else:\n",
    "                    dict[cw]=1"
   ]
  },
  {
   "cell_type": "markdown",
   "metadata": {},
   "source": [
    "# Open Book Agatha.txt & Tokenize words in Dictionary"
   ]
  },
  {
   "cell_type": "code",
   "execution_count": 42,
   "metadata": {},
   "outputs": [],
   "source": [
    "sorted_dict = [(k, dict[k]) for k in sorted(dict, key=dict.get, reverse=True)]"
   ]
  },
  {
   "cell_type": "markdown",
   "metadata": {},
   "source": [
    "# Sort The Dictionary of Tokens in Reverse on basis of Value"
   ]
  },
  {
   "cell_type": "code",
   "execution_count": 52,
   "metadata": {},
   "outputs": [],
   "source": [
    "types =0\n",
    "tokens = 0\n",
    "ln=[]\n",
    "fr=[]\n",
    "pd=[]\n",
    "ct=[]\n",
    "j=0\n",
    "for key,val in sorted_dict:\n",
    "    types +=1\n",
    "    tokens += val\n",
    "    #print(key,val,len(key))\n",
    "    #print('word = ',key,'frequency= ',tokens,' Product of Lenght & Frequency = ',val*len(key))\n",
    "    z=len(key)\n",
    "    m=val*len(key)\n",
    "    ln.append(z)\n",
    "    fr.append(tokens)\n",
    "    pd.append(m)\n",
    "    ct.append(j)\n",
    "    j+=1\n",
    "ttr = float(types)/float(tokens)"
   ]
  },
  {
   "cell_type": "markdown",
   "metadata": {},
   "source": [
    "# Word & Corresponding Frequency and Length"
   ]
  },
  {
   "cell_type": "code",
   "execution_count": 53,
   "metadata": {},
   "outputs": [],
   "source": [
    "import matplotlib.pyplot as plt"
   ]
  },
  {
   "cell_type": "code",
   "execution_count": 47,
   "metadata": {},
   "outputs": [
    {
     "data": {
      "image/png": "[encoded data removed]",
      "text/plain": [
       "<Figure size 432x288 with 1 Axes>"
      ]
     },
     "metadata": {},
     "output_type": "display_data"
    }
   ],
   "source": [
    "plt.scatter(ln,fr)\n",
    "plt.title(\"Zip's Law on Length and Frequency\")\n",
    "plt.xlabel('Length of Words')\n",
    "plt.ylabel('Frequency of Words')\n",
    "plt.show()"
   ]
  },
  {
   "cell_type": "markdown",
   "metadata": {},
   "source": [
    "# Plot of Frequency of Words vs Length"
   ]
  },
  {
   "cell_type": "code",
   "execution_count": 56,
   "metadata": {},
   "outputs": [
    {
     "data": {
      "image/png": "[encoded data removed]",
      "text/plain": [
       "<Figure size 432x288 with 1 Axes>"
      ]
     },
     "metadata": {},
     "output_type": "display_data"
    }
   ],
   "source": [
    "plt.scatter(pd,ct)\n",
    "plt.title(\"Zip's Law on Length and Frequency\")\n",
    "plt.xlabel('product of frequency and length')\n",
    "plt.ylabel('instance')\n",
    "plt.show()"
   ]
  },
  {
   "cell_type": "markdown",
   "metadata": {},
   "source": [
    "# Plot of Product of Length and Frequency"
   ]
  }
 ],
 "metadata": {
  "kernelspec": {
   "display_name": "Python 3",
   "language": "python",
   "name": "python3"
  },
  "language_info": {
   "codemirror_mode": {
    "name": "ipython",
    "version": 3
   },
   "file_extension": ".py",
   "mimetype": "text/x-python",
   "name": "python",
   "nbconvert_exporter": "python",
   "pygments_lexer": "ipython3",
   "version": "3.6.6"
  }
 },
 "nbformat": 4,
 "nbformat_minor": 2
}
