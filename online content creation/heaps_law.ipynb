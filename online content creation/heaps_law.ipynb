{
 "cells": [
  {
   "cell_type": "code",
   "execution_count": 69,
   "metadata": {},
   "outputs": [],
   "source": [
    "from nltk.tokenize import sent_tokenize, word_tokenize\n"
   ]
  },
  {
   "cell_type": "markdown",
   "metadata": {},
   "source": [
    "#Import NLTK tokenizers"
   ]
  },
  {
   "cell_type": "code",
   "execution_count": 88,
   "metadata": {},
   "outputs": [],
   "source": [
    "dict1={}\n",
    "dict2={}\n",
    "dict3={}\n",
    "dict4={}\n",
    "dict5={}\n",
    "dict6={}\n",
    "dict7={}\n",
    "dict8={}\n",
    "dict9={}\n",
    "dict10={}\n",
    "tk1=0\n",
    "tk2=0\n",
    "tk3=0\n",
    "tk4=0\n",
    "tk5=0\n",
    "tk6=0\n",
    "tk7=0\n",
    "tk8=0\n",
    "tk9=0\n",
    "tk10=0\n",
    "vocab1=0\n",
    "vocab2=0\n",
    "vocab3=0\n",
    "vocab4=0\n",
    "vocab5=0\n",
    "vocab6=0\n",
    "vocab7=0\n",
    "vocab8=0\n",
    "vocab9=0\n",
    "vocab10=0"
   ]
  },
  {
   "cell_type": "markdown",
   "metadata": {},
   "source": [
    "# Initialize Counters"
   ]
  },
  {
   "cell_type": "code",
   "execution_count": 89,
   "metadata": {},
   "outputs": [],
   "source": [
    "f=open('agatha.txt')\n",
    "for sen in f:\n",
    "    sentences = sent_tokenize(sen)\n",
    "    for words in sentences:\n",
    "        comp_words = word_tokenize(words)\n",
    "        for cw in comp_words:\n",
    "            cw=cw.lower()\n",
    "            if cw.isalpha():\n",
    "                #print(cw)\n",
    "                if cw in dict1:\n",
    "                    inc = dict1[cw]\n",
    "                    inc+=1\n",
    "                    dict1[cw] = inc\n",
    "                    tk1+=1\n",
    "                else:\n",
    "                    dict1[cw]=1\n",
    "                    tk1+=1\n",
    "f.close()"
   ]
  },
  {
   "cell_type": "code",
   "execution_count": 90,
   "metadata": {},
   "outputs": [],
   "source": [
    "f=open('candid.txt')\n",
    "for sen in f:\n",
    "    sentences = sent_tokenize(sen)\n",
    "    for words in sentences:\n",
    "        comp_words = word_tokenize(words)\n",
    "        for cw in comp_words:\n",
    "            cw=cw.lower()\n",
    "            if cw.isalpha():\n",
    "                #print(cw)\n",
    "                if cw in dict2:\n",
    "                    inc = dict2[cw]\n",
    "                    inc+=1\n",
    "                    dict2[cw] = inc\n",
    "                    tk2+=1\n",
    "                else:\n",
    "                    dict2[cw]=1\n",
    "                    tk2+=1\n",
    "f.close()"
   ]
  },
  {
   "cell_type": "code",
   "execution_count": 91,
   "metadata": {},
   "outputs": [],
   "source": [
    "f=open('emma.txt')\n",
    "for sen in f:\n",
    "    sentences = sent_tokenize(sen)\n",
    "    for words in sentences:\n",
    "        comp_words = word_tokenize(words)\n",
    "        for cw in comp_words:\n",
    "            cw=cw.lower()\n",
    "            if cw.isalpha():\n",
    "                #print(cw)\n",
    "                if cw in dict3:\n",
    "                    inc = dict3[cw]\n",
    "                    inc+=1\n",
    "                    dict3[cw] = inc\n",
    "                    tk3+=1\n",
    "                else:\n",
    "                    dict3[cw]=1\n",
    "                    tk3+=1\n",
    "f.close()"
   ]
  },
  {
   "cell_type": "code",
   "execution_count": 92,
   "metadata": {},
   "outputs": [],
   "source": [
    "f=open('huckle.txt')\n",
    "for sen in f:\n",
    "    sentences = sent_tokenize(sen)\n",
    "    for words in sentences:\n",
    "        comp_words = word_tokenize(words)\n",
    "        for cw in comp_words:\n",
    "            cw=cw.lower()\n",
    "            if cw.isalpha():\n",
    "                #print(cw)\n",
    "                if cw in dict4:\n",
    "                    inc = dict4[cw]\n",
    "                    inc+=1\n",
    "                    dict4[cw] = inc\n",
    "                    tk4+=1\n",
    "                else:\n",
    "                    dict4[cw]=1\n",
    "                    tk4+=1\n",
    "f.close()"
   ]
  },
  {
   "cell_type": "code",
   "execution_count": 93,
   "metadata": {},
   "outputs": [],
   "source": [
    "f=open('jackal.txt')\n",
    "for sen in f:\n",
    "    sentences = sent_tokenize(sen)\n",
    "    for words in sentences:\n",
    "        comp_words = word_tokenize(words)\n",
    "        for cw in comp_words:\n",
    "            cw=cw.lower()\n",
    "            if cw.isalpha():\n",
    "                #print(cw)\n",
    "                if cw in dict5:\n",
    "                    inc = dict5[cw]\n",
    "                    inc+=1\n",
    "                    dict5[cw] = inc\n",
    "                    tk5+=1\n",
    "                else:\n",
    "                    dict5[cw]=1\n",
    "                    tk5+=1\n",
    "f.close()"
   ]
  },
  {
   "cell_type": "code",
   "execution_count": 94,
   "metadata": {},
   "outputs": [],
   "source": [
    "f=open('pride.txt')\n",
    "for sen in f:\n",
    "    sentences = sent_tokenize(sen)\n",
    "    for words in sentences:\n",
    "        comp_words = word_tokenize(words)\n",
    "        for cw in comp_words:\n",
    "            cw=cw.lower()\n",
    "            if cw.isalpha():\n",
    "                #print(cw)\n",
    "                if cw in dict6:\n",
    "                    inc = dict6[cw]\n",
    "                    inc+=1\n",
    "                    dict6[cw] = inc\n",
    "                    tk6+=1\n",
    "                else:\n",
    "                    dict6[cw]=1\n",
    "                    tk6+=1\n",
    "f.close()"
   ]
  },
  {
   "cell_type": "code",
   "execution_count": 95,
   "metadata": {},
   "outputs": [],
   "source": [
    "f=open('sherlock.txt')\n",
    "for sen in f:\n",
    "    sentences = sent_tokenize(sen)\n",
    "    for words in sentences:\n",
    "        comp_words = word_tokenize(words)\n",
    "        for cw in comp_words:\n",
    "            cw=cw.lower()\n",
    "            if cw.isalpha():\n",
    "                #print(cw)\n",
    "                if cw in dict7:\n",
    "                    inc = dict7[cw]\n",
    "                    inc+=1\n",
    "                    dict7[cw] = inc\n",
    "                    tk7+=1\n",
    "                else:\n",
    "                    dict7[cw]=1\n",
    "                    tk7+=1\n",
    "f.close()"
   ]
  },
  {
   "cell_type": "code",
   "execution_count": 96,
   "metadata": {},
   "outputs": [],
   "source": [
    "f=open('tomsawyer.txt')\n",
    "for sen in f:\n",
    "    sentences = sent_tokenize(sen)\n",
    "    for words in sentences:\n",
    "        comp_words = word_tokenize(words)\n",
    "        for cw in comp_words:\n",
    "            cw=cw.lower()\n",
    "            if cw.isalpha():\n",
    "                #print(cw)\n",
    "                if cw in dict8:\n",
    "                    inc = dict8[cw]\n",
    "                    inc+=1\n",
    "                    dict8[cw] = inc\n",
    "                    tk8+=1\n",
    "                else:\n",
    "                    dict8[cw]=1\n",
    "                    tk8+=1\n",
    "f.close()"
   ]
  },
  {
   "cell_type": "code",
   "execution_count": 97,
   "metadata": {},
   "outputs": [],
   "source": [
    "f=open('twocities.txt')\n",
    "for sen in f:\n",
    "    sentences = sent_tokenize(sen)\n",
    "    for words in sentences:\n",
    "        comp_words = word_tokenize(words)\n",
    "        for cw in comp_words:\n",
    "            cw=cw.lower()\n",
    "            if cw.isalpha():\n",
    "                #print(cw)\n",
    "                if cw in dict9:\n",
    "                    inc = dict9[cw]\n",
    "                    inc+=1\n",
    "                    dict9[cw] = inc\n",
    "                    tk9+=1\n",
    "                else:\n",
    "                    dict9[cw]=1\n",
    "                    tk9+=1\n",
    "f.close()"
   ]
  },
  {
   "cell_type": "code",
   "execution_count": 98,
   "metadata": {},
   "outputs": [],
   "source": [
    "f=open('warpeace.txt')\n",
    "for sen in f:\n",
    "    sentences = sent_tokenize(sen)\n",
    "    for words in sentences:\n",
    "        comp_words = word_tokenize(words)\n",
    "        for cw in comp_words:\n",
    "            cw=cw.lower()\n",
    "            if cw.isalpha():\n",
    "                #print(cw)\n",
    "                if cw in dict10:\n",
    "                    inc = dict10[cw]\n",
    "                    inc+=1\n",
    "                    dict10[cw] = inc\n",
    "                    tk10+=1\n",
    "                else:\n",
    "                    dict10[cw]=1\n",
    "                    tk10+=1\n",
    "f.close()"
   ]
  },
  {
   "cell_type": "markdown",
   "metadata": {},
   "source": [
    "# Type and Token count of all books"
   ]
  },
  {
   "cell_type": "code",
   "execution_count": 112,
   "metadata": {},
   "outputs": [],
   "source": [
    "vocab1=len(dict1)\n",
    "vocab2=len(dict2)\n",
    "vocab3=len(dict3)\n",
    "vocab4=len(dict4)\n",
    "vocab5=len(dict5)\n",
    "vocab6=len(dict6)\n",
    "vocab7=len(dict7)\n",
    "vocab8=len(dict8)\n",
    "vocab9=len(dict9)\n",
    "vocab10=len(dict10)"
   ]
  },
  {
   "cell_type": "code",
   "execution_count": 114,
   "metadata": {},
   "outputs": [
    {
     "name": "stdout",
     "output_type": "stream",
     "text": [
      "[5378, 5186, 6824, 6090, 4238, 6450, 9152, 8361]\n",
      "[58936, 38187, 150349, 112434, 28447, 122983, 120589, 120248]\n"
     ]
    }
   ],
   "source": [
    "datasetx=[vocab1,vocab2,vocab3,vocab4,vocab5,vocab6,vocab9,vocab10]\n",
    "datasety=[tk1,tk2,tk3,tk4,tk5,tk6,tk9,tk10]\n",
    "print(datasetx)\n",
    "print(datasety)"
   ]
  },
  {
   "cell_type": "code",
   "execution_count": 115,
   "metadata": {},
   "outputs": [],
   "source": [
    "import matplotlib.pyplot as plt"
   ]
  },
  {
   "cell_type": "code",
   "execution_count": 117,
   "metadata": {},
   "outputs": [
    {
     "data": {
      "image/png": "[encoded data removed]",
      "text/plain": [
       "<Figure size 432x288 with 1 Axes>"
      ]
     },
     "metadata": {},
     "output_type": "display_data"
    }
   ],
   "source": [
    "plt.scatter(datasetx,datasety)\n",
    "plt.title(\"HEAP'S LAW plot type vs token\")\n",
    "\n",
    "\n",
    "plt.xlabel('Type')\n",
    "plt.ylabel('Token')\n",
    "plt.show()"
   ]
  },
  {
   "cell_type": "markdown",
   "metadata": {},
   "source": [
    "# HEAP'S LAW PLOT"
   ]
  }
 ],
 "metadata": {
  "kernelspec": {
   "display_name": "Python 3",
   "language": "python",
   "name": "python3"
  },
  "language_info": {
   "codemirror_mode": {
    "name": "ipython",
    "version": 3
   },
   "file_extension": ".py",
   "mimetype": "text/x-python",
   "name": "python",
   "nbconvert_exporter": "python",
   "pygments_lexer": "ipython3",
   "version": "3.6.6"
  }
 },
 "nbformat": 4,
 "nbformat_minor": 2
}
