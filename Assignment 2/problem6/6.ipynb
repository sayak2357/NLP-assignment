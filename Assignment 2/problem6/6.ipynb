{
 "cells": [
  {
   "cell_type": "code",
   "execution_count": 26,
   "metadata": {},
   "outputs": [],
   "source": [
    "from nltk.tokenize import sent_tokenize, word_tokenize\n"
   ]
  },
  {
   "cell_type": "code",
   "execution_count": 27,
   "metadata": {},
   "outputs": [],
   "source": [
    "f = open(\"alice.txt\")\n",
    "dict1={}\n",
    "token_dict=0"
   ]
  },
  {
   "cell_type": "code",
   "execution_count": 28,
   "metadata": {},
   "outputs": [],
   "source": [
    "for sen in f:\n",
    "    sentences = sent_tokenize(sen)\n",
    "    for word in sentences:\n",
    "        comp_words = word_tokenize(word)\n",
    "        for cw in comp_words:\n",
    "            cw=cw.lower()\n",
    "            if cw.isalpha():\n",
    "                if cw in dict1:\n",
    "                    inc = dict1[cw]\n",
    "                    inc+=1\n",
    "                    dict1[cw] = inc\n",
    "                    token_dict+=1\n",
    "                else:\n",
    "                    dict1[cw]=1\n",
    "                    token_dict+=1\n",
    "        "
   ]
  },
  {
   "cell_type": "code",
   "execution_count": 29,
   "metadata": {},
   "outputs": [],
   "source": [
    "#print(dict1)\n",
    "f.close()"
   ]
  },
  {
   "cell_type": "code",
   "execution_count": 30,
   "metadata": {},
   "outputs": [],
   "source": [
    "f = open(\"alice.txt\")\n",
    "token_dict2=0\n",
    "dict2={}\n",
    "for sen in f:\n",
    "    sentences = sent_tokenize(sen)\n",
    "    for word in sentences:\n",
    "        comp_words = word_tokenize(word)\n",
    "        for i in range(len(comp_words)-1):\n",
    "            if comp_words[i].isalpha():\n",
    "                j=comp_words[i].lower()\n",
    "                k=comp_words[i+1]\n",
    "                l=j+' '+k\n",
    "                if l in dict2:\n",
    "                    inc = dict2[l]\n",
    "                    inc+=1\n",
    "                    dict2[l] = inc\n",
    "                    token_dict2+=1\n",
    "                else:\n",
    "                    dict2[l]=1\n",
    "                    token_dict2+=1"
   ]
  },
  {
   "cell_type": "code",
   "execution_count": 31,
   "metadata": {},
   "outputs": [],
   "source": [
    "f.close()"
   ]
  },
  {
   "cell_type": "code",
   "execution_count": 32,
   "metadata": {},
   "outputs": [],
   "source": [
    "#Bigram Count of Count"
   ]
  },
  {
   "cell_type": "code",
   "execution_count": 33,
   "metadata": {},
   "outputs": [],
   "source": [
    "nc={}\n",
    "for x in dict2:\n",
    "    #print(dict2[x])\n",
    "    if dict2[x] in nc:\n",
    "        temp=nc[dict2[x]]\n",
    "        temp+=1\n",
    "        nc[dict2[x]]=temp\n",
    "    else:\n",
    "        nc[dict2[x]]=1"
   ]
  },
  {
   "cell_type": "code",
   "execution_count": 34,
   "metadata": {},
   "outputs": [
    {
     "name": "stdout",
     "output_type": "stream",
     "text": [
      "{22: 3, 2: 1723, 12: 36, 3: 672, 4: 299, 6: 123, 23: 5, 8: 72, 9: 50, 13: 18, 61: 1, 5: 216, 10: 48, 11: 36, 17: 17, 149: 1, 26: 7, 1: 10034, 7: 102, 35: 3, 20: 7, 56: 2, 16: 12, 25: 4, 29: 4, 53: 3, 21: 5, 57: 1, 19: 12, 32: 4, 28: 5, 18: 9, 60: 1, 87: 1, 71: 1, 14: 12, 27: 3, 42: 1, 31: 2, 15: 11, 40: 1, 38: 1, 46: 2, 96: 1, 77: 1, 50: 2, 51: 2, 33: 2, 24: 3, 78: 1, 83: 1, 110: 1, 54: 2, 39: 1, 206: 1, 64: 1, 30: 1, 34: 1, 58: 1, 45: 1}\n"
     ]
    }
   ],
   "source": [
    "#Count of count dictionary\n",
    "print(nc)"
   ]
  },
  {
   "cell_type": "markdown",
   "metadata": {},
   "source": [
    "# Sorted Count of Count Dictionary"
   ]
  },
  {
   "cell_type": "code",
   "execution_count": 35,
   "metadata": {},
   "outputs": [
    {
     "name": "stdout",
     "output_type": "stream",
     "text": [
      "1 10034\n",
      "2 1723\n",
      "3 672\n",
      "4 299\n",
      "5 216\n",
      "6 123\n",
      "7 102\n",
      "8 72\n",
      "9 50\n",
      "10 48\n",
      "11 36\n",
      "12 36\n",
      "13 18\n",
      "14 12\n",
      "15 11\n",
      "16 12\n",
      "17 17\n",
      "18 9\n",
      "19 12\n",
      "20 7\n",
      "21 5\n",
      "22 3\n",
      "23 5\n",
      "24 3\n",
      "25 4\n",
      "26 7\n",
      "27 3\n",
      "28 5\n",
      "29 4\n",
      "30 1\n",
      "31 2\n",
      "32 4\n",
      "33 2\n",
      "34 1\n",
      "35 3\n",
      "38 1\n",
      "39 1\n",
      "40 1\n",
      "42 1\n",
      "45 1\n",
      "46 2\n",
      "50 2\n",
      "51 2\n",
      "53 3\n",
      "54 2\n",
      "56 2\n",
      "57 1\n",
      "58 1\n",
      "60 1\n",
      "61 1\n",
      "64 1\n",
      "71 1\n",
      "77 1\n",
      "78 1\n",
      "83 1\n",
      "87 1\n",
      "96 1\n",
      "110 1\n",
      "149 1\n",
      "206 1\n"
     ]
    }
   ],
   "source": [
    "import collections \n",
    "od = collections.OrderedDict(sorted(nc.items()))\n",
    "for k, v in od.items(): print(k, v)"
   ]
  },
  {
   "cell_type": "code",
   "execution_count": 43,
   "metadata": {},
   "outputs": [
    {
     "ename": "KeyError",
     "evalue": "62",
     "output_type": "error",
     "traceback": [
      "\u001b[1;31m---------------------------------------------------------------------------\u001b[0m",
      "\u001b[1;31mKeyError\u001b[0m                                  Traceback (most recent call last)",
      "\u001b[1;32m<ipython-input-43-41a6b462e263>\u001b[0m in \u001b[0;36m<module>\u001b[1;34m()\u001b[0m\n\u001b[0;32m      2\u001b[0m \u001b[1;32mfor\u001b[0m \u001b[0mx\u001b[0m \u001b[1;32min\u001b[0m \u001b[0mdict2\u001b[0m\u001b[1;33m:\u001b[0m\u001b[1;33m\u001b[0m\u001b[0m\n\u001b[0;32m      3\u001b[0m     \u001b[0my\u001b[0m\u001b[1;33m=\u001b[0m\u001b[0mx\u001b[0m\u001b[1;33m.\u001b[0m\u001b[0msplit\u001b[0m\u001b[1;33m(\u001b[0m\u001b[1;33m)\u001b[0m\u001b[1;33m\u001b[0m\u001b[0m\n\u001b[1;32m----> 4\u001b[1;33m     \u001b[0mz\u001b[0m\u001b[1;33m=\u001b[0m\u001b[1;33m(\u001b[0m\u001b[0mdict2\u001b[0m\u001b[1;33m[\u001b[0m\u001b[0mx\u001b[0m\u001b[1;33m]\u001b[0m\u001b[1;33m+\u001b[0m\u001b[1;36m1\u001b[0m\u001b[1;33m)\u001b[0m\u001b[1;33m*\u001b[0m\u001b[1;33m(\u001b[0m\u001b[0mnc\u001b[0m\u001b[1;33m[\u001b[0m\u001b[0mdict2\u001b[0m\u001b[1;33m[\u001b[0m\u001b[0mx\u001b[0m\u001b[1;33m]\u001b[0m\u001b[1;33m+\u001b[0m\u001b[1;36m1\u001b[0m\u001b[1;33m]\u001b[0m\u001b[1;33m)\u001b[0m\u001b[1;33m/\u001b[0m\u001b[1;33m(\u001b[0m\u001b[0mnc\u001b[0m\u001b[1;33m[\u001b[0m\u001b[0mdict2\u001b[0m\u001b[1;33m[\u001b[0m\u001b[0mx\u001b[0m\u001b[1;33m]\u001b[0m\u001b[1;33m]\u001b[0m\u001b[1;33m)\u001b[0m\u001b[1;33m\u001b[0m\u001b[0m\n\u001b[0m\u001b[0;32m      5\u001b[0m     \u001b[0mll\u001b[0m\u001b[1;33m.\u001b[0m\u001b[0mappend\u001b[0m\u001b[1;33m(\u001b[0m\u001b[0mz\u001b[0m\u001b[1;33m)\u001b[0m\u001b[1;33m\u001b[0m\u001b[0m\n\u001b[0;32m      6\u001b[0m \u001b[1;33m\u001b[0m\u001b[0m\n",
      "\u001b[1;31mKeyError\u001b[0m: 62"
     ]
    }
   ],
   "source": [
    "ll=[1.0]\n",
    "for x in dict2:\n",
    "    y=x.split()\n",
    "    z=(dict2[x]+1)*(nc[dict2[x]+1])/(nc[dict2[x]])\n",
    "    ll.append(z)\n",
    "    "
   ]
  },
  {
   "cell_type": "markdown",
   "metadata": {},
   "source": [
    "#Sorted count of count list"
   ]
  },
  {
   "cell_type": "code",
   "execution_count": 44,
   "metadata": {},
   "outputs": [
    {
     "name": "stdout",
     "output_type": "stream",
     "text": [
      "[1.0, 1.1700522344747533, 1.1700522344747533, 1.1700522344747533, 1.1700522344747533, 1.1700522344747533, 1.1700522344747533, 1.1700522344747533, 1.1700522344747533, 1.1700522344747533, 1.1700522344747533, 1.1700522344747533, 1.1700522344747533, 1.1700522344747533, 1.1700522344747533, 1.1700522344747533, 1.7797619047619047, 1.7797619047619047, 1.7797619047619047, 1.7797619047619047, 1.7797619047619047, 3.612040133779264, 5.804878048780488, 6.25, 6.5, 9.333333333333334, 9.6, 14.4, 38.333333333333336]\n"
     ]
    }
   ],
   "source": [
    "ll.sort()\n",
    "print(ll)"
   ]
  },
  {
   "cell_type": "code",
   "execution_count": 45,
   "metadata": {},
   "outputs": [],
   "source": [
    "#Constant discounting value = 1.170 -1 = 0.17"
   ]
  },
  {
   "cell_type": "code",
   "execution_count": null,
   "metadata": {},
   "outputs": [],
   "source": []
  }
 ],
 "metadata": {
  "kernelspec": {
   "display_name": "Python 3",
   "language": "python",
   "name": "python3"
  },
  "language_info": {
   "codemirror_mode": {
    "name": "ipython",
    "version": 3
   },
   "file_extension": ".py",
   "mimetype": "text/x-python",
   "name": "python",
   "nbconvert_exporter": "python",
   "pygments_lexer": "ipython3",
   "version": "3.6.6"
  }
 },
 "nbformat": 4,
 "nbformat_minor": 2
}
