{
 "cells": [
  {
   "cell_type": "code",
   "execution_count": 22,
   "metadata": {},
   "outputs": [],
   "source": [
    "from nltk.tokenize import sent_tokenize, word_tokenize\n"
   ]
  },
  {
   "cell_type": "code",
   "execution_count": 23,
   "metadata": {},
   "outputs": [],
   "source": [
    "f = open(\"alice.txt\")\n",
    "dict1={}\n",
    "token_dict=0"
   ]
  },
  {
   "cell_type": "code",
   "execution_count": 24,
   "metadata": {},
   "outputs": [],
   "source": [
    "for sen in f:\n",
    "    sentences = sent_tokenize(sen)\n",
    "    for word in sentences:\n",
    "        comp_words = word_tokenize(word)\n",
    "        for cw in comp_words:\n",
    "            cw=cw.lower()\n",
    "            if cw.isalpha():\n",
    "                if cw in dict1:\n",
    "                    inc = dict1[cw]\n",
    "                    inc+=1\n",
    "                    dict1[cw] = inc\n",
    "                    token_dict+=1\n",
    "                else:\n",
    "                    dict1[cw]=1\n",
    "                    token_dict+=1\n",
    "        "
   ]
  },
  {
   "cell_type": "code",
   "execution_count": 25,
   "metadata": {},
   "outputs": [],
   "source": [
    "#print(dict1)\n",
    "f.close()"
   ]
  },
  {
   "cell_type": "code",
   "execution_count": 26,
   "metadata": {},
   "outputs": [],
   "source": [
    "f = open(\"alice.txt\")\n",
    "token_dict2=0\n",
    "dict2={}\n",
    "for sen in f:\n",
    "    sentences = sent_tokenize(sen)\n",
    "    for word in sentences:\n",
    "        comp_words = word_tokenize(word)\n",
    "        for i in range(len(comp_words)-1):\n",
    "            if comp_words[i].isalpha():\n",
    "                j=comp_words[i].lower()\n",
    "                k=comp_words[i+1]\n",
    "                l=j+' '+k\n",
    "                if l in dict2:\n",
    "                    inc = dict2[l]\n",
    "                    inc+=1\n",
    "                    dict2[l] = inc\n",
    "                    token_dict2+=1\n",
    "                else:\n",
    "                    dict2[l]=1\n",
    "                    token_dict2+=1"
   ]
  },
  {
   "cell_type": "code",
   "execution_count": 27,
   "metadata": {},
   "outputs": [],
   "source": [
    "#print(dict2['of anyone'])\n",
    "f.close()"
   ]
  },
  {
   "cell_type": "code",
   "execution_count": 28,
   "metadata": {},
   "outputs": [],
   "source": [
    "# Bigram product of probabilities"
   ]
  },
  {
   "cell_type": "code",
   "execution_count": 29,
   "metadata": {},
   "outputs": [],
   "source": [
    "pp=1.0"
   ]
  },
  {
   "cell_type": "code",
   "execution_count": 30,
   "metadata": {},
   "outputs": [
    {
     "name": "stdout",
     "output_type": "stream",
     "text": [
      "129.7826086956522\n",
      "126667.82608695651\n",
      "32154140.468227416\n",
      "23392137190.635445\n",
      "19409625833929.76\n",
      "1.410109316834997e+16\n",
      "1.3983584058613721e+19\n",
      "8.116072187619403e+21\n",
      "3.566434007016755e+24\n",
      "3.455874552799236e+27\n",
      "3.499648963801359e+30\n",
      "4.476634299529239e+32\n",
      "2.3328238738657923e+35\n",
      "6.828175478805174e+37\n",
      "7.998069544173793e+40\n",
      "7.73946529557884e+43\n",
      "7.484062940824738e+46\n",
      "5.841311125313708e+49\n",
      "5.812104569687139e+52\n",
      "5.62224248707736e+55\n",
      "5.307396907801026e+58\n",
      "5.1410984713565936e+61\n",
      "5.11539297899981e+64\n",
      "4.944879879699816e+67\n",
      "4.780050550376489e+70\n",
      "1.1359448700787555e+73\n",
      "1.1079248966168128e+76\n",
      "1.0746871497183085e+79\n",
      "5.985314077382772e+80\n",
      "4.3558123198153124e+83\n",
      "2.5067699900537125e+86\n",
      "2.4449363302990542e+89\n",
      "2.8141217161742116e+92\n",
      "7.470214010207906e+94\n",
      "2.9196086423229235e+97\n",
      "4.736254019768298e+99\n",
      "1.1095464416977199e+101\n",
      "1.927323263541595e+103\n",
      "1.8810675052165967e+106\n",
      "1.8265165475653157e+109\n",
      "9.513107018569352e+111\n",
      "9.218200700993703e+114\n",
      "7.021964383981953e+117\n",
      "5.094435160578907e+120\n",
      "5.301608857109116e+123\n",
      "7.684682038379664e+126\n",
      "1.1138946614631323e+130\n",
      "1.6145903117908103e+133\n",
      "1.5618470282723107e+136\n",
      "2.2638972674807144e+139\n",
      "3.290574678283218e+142\n",
      "4.769687996171525e+145\n",
      "4.663164964257028e+148\n",
      "6.836199837600803e+151\n",
      "9.912489764521164e+154\n",
      "1.4368153913673428e+158\n",
      "2.0826639097869636e+161\n",
      "3.020904001145991e+164\n",
      "2.6538641650067525e+167\n",
      "2.721095390520257e+170\n",
      "2.0306174351757417e+173\n",
      "1.9818826167315238e+176\n",
      "1.9204442556128468e+179\n",
      "1.0562443405870655e+182\n",
      "7.684177577770902e+184\n",
      "6.3759463451554055e+187\n",
      "6.176166693007203e+190\n",
      "1.448311089510189e+194\n",
      "2.0993269242450193e+197\n",
      "3.0429743766931555e+200\n",
      "4.412312846205076e+203\n",
      "6.4199151912283835e+206\n",
      "1.0502981252849637e+210\n",
      "3.1508943758548906e+212\n",
      "7.388847311379718e+215\n",
      "1.3546220070862816e+218\n",
      "7.373659125239658e+220\n",
      "2.684933628977891e+223\n",
      "5.516046977755688e+225\n",
      "8.114105104278618e+228\n",
      "6.162662826699611e+231\n",
      "4.475633877890592e+234\n",
      "7.86368872345377e+237\n",
      "1.143380340390178e+241\n",
      "1.1338521708869267e+244\n",
      "5.0958556137289584e+246\n",
      "7.406826134555043e+249\n",
      "6.380157734237551e+251\n",
      "6.169612529007712e+254\n",
      "1.1648228454766559e+258\n",
      "1.3643958263349895e+261\n",
      "1.983831531491075e+264\n",
      "1.936219574735289e+267\n",
      "3.4095904701767134e+269\n",
      "3.458461266915913e+272\n",
      "2.533322878015906e+275\n",
      "1.9297587023286166e+278\n",
      "2.8010447564299868e+281\n",
      "1.6919293151558677e+283\n",
      "2.6081090393127703e+286\n",
      "3.7830621615231734e+289\n",
      "4.673658045381754e+291\n",
      "6.788488310916997e+294\n",
      "9.867067759917857e+297\n",
      "1.0741947767963906e+301\n",
      "1.5586566211315628e+304\n",
      "3.637664760394739e+306\n",
      "inf\n",
      "inf\n",
      "inf\n",
      "inf\n",
      "inf\n"
     ]
    },
    {
     "ename": "ZeroDivisionError",
     "evalue": "float division by zero",
     "output_type": "error",
     "traceback": [
      "\u001b[1;31m---------------------------------------------------------------------------\u001b[0m",
      "\u001b[1;31mZeroDivisionError\u001b[0m                         Traceback (most recent call last)",
      "\u001b[1;32m<ipython-input-30-ba934437d722>\u001b[0m in \u001b[0;36m<module>\u001b[1;34m()\u001b[0m\n\u001b[0;32m      5\u001b[0m     \u001b[1;31m#x.append(z)\u001b[0m\u001b[1;33m\u001b[0m\u001b[1;33m\u001b[0m\u001b[0m\n\u001b[0;32m      6\u001b[0m     \u001b[0mpp\u001b[0m\u001b[1;33m=\u001b[0m\u001b[0mpp\u001b[0m\u001b[1;33m*\u001b[0m\u001b[0mz\u001b[0m\u001b[1;33m\u001b[0m\u001b[0m\n\u001b[1;32m----> 7\u001b[1;33m     \u001b[0mg\u001b[0m\u001b[1;33m=\u001b[0m\u001b[1;36m1.0\u001b[0m\u001b[1;33m/\u001b[0m\u001b[0mpp\u001b[0m\u001b[1;33m\u001b[0m\u001b[0m\n\u001b[0m\u001b[0;32m      8\u001b[0m     \u001b[0mprint\u001b[0m\u001b[1;33m(\u001b[0m\u001b[0mg\u001b[0m\u001b[1;33m)\u001b[0m\u001b[1;33m\u001b[0m\u001b[0m\n",
      "\u001b[1;31mZeroDivisionError\u001b[0m: float division by zero"
     ]
    }
   ],
   "source": [
    "for x in dict2:\n",
    "    y=x.split()\n",
    "    typ=len(dict1)\n",
    "    z=(dict2[x]+1)/(dict1[y[0]]+typ)\n",
    "    #x.append(z)\n",
    "    pp=pp*z\n",
    "    g=1.0/pp\n",
    "    print(g)"
   ]
  },
  {
   "cell_type": "markdown",
   "metadata": {},
   "source": [
    "#Bigram Add1 perplexity"
   ]
  },
  {
   "cell_type": "code",
   "execution_count": 34,
   "metadata": {},
   "outputs": [
    {
     "name": "stdout",
     "output_type": "stream",
     "text": [
      "1.2758181218068483\n"
     ]
    }
   ],
   "source": [
    "da=len(dict1)\n",
    "pow=1/da\n",
    "\n",
    "perplexity=3.765699194368121e+306**(pow)\n",
    "print(perplexity)"
   ]
  },
  {
   "cell_type": "code",
   "execution_count": null,
   "metadata": {},
   "outputs": [],
   "source": [
    "#GOOD Turing MLE"
   ]
  },
  {
   "cell_type": "code",
   "execution_count": 13,
   "metadata": {},
   "outputs": [],
   "source": [
    "nc={}\n",
    "for x in dict2:\n",
    "    #print(dict2[x])\n",
    "    if dict2[x] in nc:\n",
    "        temp=nc[dict2[x]]\n",
    "        temp+=1\n",
    "        nc[dict2[x]]=temp\n",
    "    else:\n",
    "        nc[dict2[x]]=1"
   ]
  },
  {
   "cell_type": "code",
   "execution_count": 14,
   "metadata": {},
   "outputs": [
    {
     "name": "stdout",
     "output_type": "stream",
     "text": [
      "{22: 3, 2: 1723, 12: 36, 3: 672, 4: 299, 6: 123, 23: 5, 8: 72, 9: 50, 13: 18, 61: 1, 5: 216, 10: 48, 11: 36, 17: 17, 149: 1, 26: 7, 1: 10034, 7: 102, 35: 3, 20: 7, 56: 2, 16: 12, 25: 4, 29: 4, 53: 3, 21: 5, 57: 1, 19: 12, 32: 4, 28: 5, 18: 9, 60: 1, 87: 1, 71: 1, 14: 12, 27: 3, 42: 1, 31: 2, 15: 11, 40: 1, 38: 1, 46: 2, 96: 1, 77: 1, 50: 2, 51: 2, 33: 2, 24: 3, 78: 1, 83: 1, 110: 1, 54: 2, 39: 1, 206: 1, 64: 1, 30: 1, 34: 1, 58: 1, 45: 1}\n"
     ]
    }
   ],
   "source": [
    "#Count of count dictionary\n",
    "print(nc)"
   ]
  },
  {
   "cell_type": "code",
   "execution_count": 21,
   "metadata": {},
   "outputs": [
    {
     "name": "stdout",
     "output_type": "stream",
     "text": [
      "0.02608695652173913\n",
      "0.022295548654244306\n",
      "0.003430084408345278\n",
      "0.001927271507030123\n",
      "0.0010828816494349856\n",
      "0.0006084418632276843\n",
      "0.0005200125646534226\n",
      "0.0001439664415105309\n",
      "2.4800941604755324e-05\n",
      "2.1196439675095944e-05\n",
      "1.811580632945948e-05\n",
      "1.258042106212464e-06\n",
      "2.012867369939942e-07\n",
      "2.0967368436874398e-08\n",
      "1.7920027686872318e-08\n",
      "1.531557921849256e-08\n",
      "1.30896542626303e-08\n",
      "7.354722127497961e-09\n",
      "6.28580665956299e-09\n",
      "5.372244481362616e-09\n",
      "3.0185186383575905e-09\n",
      "2.5798152846677227e-09\n",
      "2.20487189260044e-09\n",
      "1.8844217613842053e-09\n",
      "1.6105449875322353e-09\n",
      "1.725583915213109e-10\n",
      "1.474792205313585e-10\n",
      "1.2604498857913228e-10\n"
     ]
    },
    {
     "ename": "KeyError",
     "evalue": "62",
     "output_type": "error",
     "traceback": [
      "\u001b[1;31m---------------------------------------------------------------------------\u001b[0m",
      "\u001b[1;31mKeyError\u001b[0m                                  Traceback (most recent call last)",
      "\u001b[1;32m<ipython-input-21-5723f762ed63>\u001b[0m in \u001b[0;36m<module>\u001b[1;34m()\u001b[0m\n\u001b[0;32m      3\u001b[0m     \u001b[0my\u001b[0m\u001b[1;33m=\u001b[0m\u001b[0mx\u001b[0m\u001b[1;33m.\u001b[0m\u001b[0msplit\u001b[0m\u001b[1;33m(\u001b[0m\u001b[1;33m)\u001b[0m\u001b[1;33m\u001b[0m\u001b[0m\n\u001b[0;32m      4\u001b[0m \u001b[1;33m\u001b[0m\u001b[0m\n\u001b[1;32m----> 5\u001b[1;33m     \u001b[0mz\u001b[0m\u001b[1;33m=\u001b[0m\u001b[1;33m(\u001b[0m\u001b[0mdict2\u001b[0m\u001b[1;33m[\u001b[0m\u001b[0mx\u001b[0m\u001b[1;33m]\u001b[0m\u001b[1;33m+\u001b[0m\u001b[1;36m1\u001b[0m\u001b[1;33m)\u001b[0m\u001b[1;33m*\u001b[0m\u001b[1;33m(\u001b[0m\u001b[0mnc\u001b[0m\u001b[1;33m[\u001b[0m\u001b[0mdict2\u001b[0m\u001b[1;33m[\u001b[0m\u001b[0mx\u001b[0m\u001b[1;33m]\u001b[0m\u001b[1;33m+\u001b[0m\u001b[1;36m1\u001b[0m\u001b[1;33m]\u001b[0m\u001b[1;33m)\u001b[0m\u001b[1;33m/\u001b[0m\u001b[1;33m(\u001b[0m\u001b[0mnc\u001b[0m\u001b[1;33m[\u001b[0m\u001b[0mdict2\u001b[0m\u001b[1;33m[\u001b[0m\u001b[0mx\u001b[0m\u001b[1;33m]\u001b[0m\u001b[1;33m]\u001b[0m\u001b[1;33m)\u001b[0m\u001b[1;33m\u001b[0m\u001b[0m\n\u001b[0m\u001b[0;32m      6\u001b[0m     \u001b[1;31m#x.append(z)\u001b[0m\u001b[1;33m\u001b[0m\u001b[1;33m\u001b[0m\u001b[0m\n\u001b[0;32m      7\u001b[0m     \u001b[0mppg\u001b[0m\u001b[1;33m=\u001b[0m\u001b[0mppg\u001b[0m\u001b[1;33m*\u001b[0m\u001b[0mz\u001b[0m\u001b[1;33m\u001b[0m\u001b[0m\n",
      "\u001b[1;31mKeyError\u001b[0m: 62"
     ]
    }
   ],
   "source": [
    "ppg=1.0\n",
    "for x in dict2:\n",
    "    y=x.split()\n",
    "    \n",
    "    z=(dict2[x]+1)*(nc[dict2[x]+1])/(nc[dict2[x]])\n",
    "    #x.append(z)\n",
    "    ppg=ppg*z\n",
    "    g=1.0/ppg\n",
    "    print(g)"
   ]
  },
  {
   "cell_type": "code",
   "execution_count": null,
   "metadata": {},
   "outputs": [],
   "source": [
    "#Perplexity after Good Turing Smoothing"
   ]
  },
  {
   "cell_type": "code",
   "execution_count": 33,
   "metadata": {},
   "outputs": [
    {
     "name": "stdout",
     "output_type": "stream",
     "text": [
      "1.0019769638595557\n"
     ]
    }
   ],
   "source": [
    "da=len(dict1)\n",
    "pow=1/da\n",
    "perplexity=1.2604498857913228e-10+306**(pow)\n",
    "print(perplexity)"
   ]
  },
  {
   "cell_type": "code",
   "execution_count": null,
   "metadata": {},
   "outputs": [],
   "source": [
    "#Perplexity with Good Turing Smoothing is better than Add 1 smoothing"
   ]
  }
 ],
 "metadata": {
  "kernelspec": {
   "display_name": "Python 3",
   "language": "python",
   "name": "python3"
  },
  "language_info": {
   "codemirror_mode": {
    "name": "ipython",
    "version": 3
   },
   "file_extension": ".py",
   "mimetype": "text/x-python",
   "name": "python",
   "nbconvert_exporter": "python",
   "pygments_lexer": "ipython3",
   "version": "3.6.6"
  }
 },
 "nbformat": 4,
 "nbformat_minor": 2
}
