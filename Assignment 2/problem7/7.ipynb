{
 "cells": [
  {
   "cell_type": "code",
   "execution_count": 42,
   "metadata": {},
   "outputs": [],
   "source": [
    "from nltk.tokenize import sent_tokenize, word_tokenize\n"
   ]
  },
  {
   "cell_type": "code",
   "execution_count": 43,
   "metadata": {},
   "outputs": [],
   "source": [
    "f = open(\"alice.txt\")\n",
    "dict1={'test':1}\n",
    "token_dict=0"
   ]
  },
  {
   "cell_type": "code",
   "execution_count": 44,
   "metadata": {},
   "outputs": [],
   "source": [
    "for sen in f:\n",
    "    sentences = sent_tokenize(sen)\n",
    "    for word in sentences:\n",
    "        comp_words = word_tokenize(word)\n",
    "        for cw in comp_words:\n",
    "            cw=cw.lower()\n",
    "            if cw.isalpha():\n",
    "                if cw in dict1:\n",
    "                    inc = dict1[cw]\n",
    "                    inc+=1\n",
    "                    dict1[cw] = inc\n",
    "                    token_dict+=1\n",
    "                else:\n",
    "                    dict1[cw]=1\n",
    "                    token_dict+=1\n",
    "        "
   ]
  },
  {
   "cell_type": "code",
   "execution_count": 45,
   "metadata": {},
   "outputs": [],
   "source": [
    "#print(dict1)\n",
    "f.close()"
   ]
  },
  {
   "cell_type": "code",
   "execution_count": 46,
   "metadata": {},
   "outputs": [],
   "source": [
    "f = open(\"alice.txt\")\n",
    "token_dict2=0\n",
    "dict2={}\n",
    "for sen in f:\n",
    "    sentences = sent_tokenize(sen)\n",
    "    for word in sentences:\n",
    "        comp_words = word_tokenize(word)\n",
    "        for i in range(len(comp_words)-1):\n",
    "            if comp_words[i].isalpha():\n",
    "                j=comp_words[i].lower()\n",
    "                k=comp_words[i+1]\n",
    "                l=j+' '+k\n",
    "                if l in dict2:\n",
    "                    inc = dict2[l]\n",
    "                    inc+=1\n",
    "                    dict2[l] = inc\n",
    "                    token_dict2+=1\n",
    "                else:\n",
    "                    dict2[l]=1\n",
    "                    token_dict2+=1"
   ]
  },
  {
   "cell_type": "code",
   "execution_count": 47,
   "metadata": {},
   "outputs": [],
   "source": [
    "#print(dict2['of anyone'])\n",
    "f.close()"
   ]
  },
  {
   "cell_type": "code",
   "execution_count": 48,
   "metadata": {},
   "outputs": [],
   "source": [
    "# Bigram product of probabilities"
   ]
  },
  {
   "cell_type": "code",
   "execution_count": 53,
   "metadata": {},
   "outputs": [],
   "source": [
    "pp=1.0"
   ]
  },
  {
   "cell_type": "code",
   "execution_count": 54,
   "metadata": {},
   "outputs": [
    {
     "name": "stdout",
     "output_type": "stream",
     "text": [
      "129.82608695652172\n",
      "126753.53623188405\n",
      "32185647.930880707\n",
      "23423105281.698433\n",
      "19441177383809.7\n",
      "1.4128875663683698e+16\n",
      "1.401584465837423e+19\n",
      "8.137599408652078e+21\n",
      "3.5770561972032064e+24\n",
      "3.467359807155642e+27\n",
      "3.512435484648666e+30\n",
      "4.494453905565021e+32\n",
      "2.342609252333946e+35\n",
      "6.859159890833794e+37\n",
      "8.036649005426928e+40\n",
      "7.779476237253267e+43\n",
      "7.525346680169661e+46\n",
      "5.875414420542463e+49\n",
      "5.847995819913266e+52\n",
      "5.65891062173607e+55\n",
      "5.343426354574284e+58\n",
      "5.177780137582482e+61\n",
      "5.153617163607098e+64\n",
      "4.9835477972080633e+67\n",
      "4.819090719900197e+70\n",
      "1.1455667082734182e+73\n",
      "1.1176912517054316e+76\n",
      "1.0845330779048373e+79\n",
      "6.041898792069851e+80\n",
      "4.398502320626851e+83\n",
      "2.532071169240857e+86\n",
      "2.470457437455996e+89\n",
      "2.8443199963243364e+92\n",
      "7.552962462966715e+94\n",
      "2.952578909481405e+97\n",
      "4.791379441441769e+99\n",
      "1.1227799157778546e+101\n",
      "1.9507261425607096e+103\n",
      "1.904558957186773e+106\n",
      "1.8499616004140853e+109\n",
      "9.638299938157386e+111\n",
      "9.342725406720559e+114\n",
      "7.119156759921066e+117\n",
      "5.166728018512713e+120\n",
      "5.378563867271734e+123\n",
      "7.798917607544016e+126\n",
      "1.1308430530938822e+130\n",
      "1.6397224269861293e+133\n",
      "1.5867047351802446e+136\n",
      "2.3007218660113547e+139\n",
      "3.34524959318051e+142\n",
      "4.8506119101117397e+145\n",
      "4.7438984480892807e+148\n",
      "6.95692707412293e+151\n",
      "1.009102272101531e+155\n",
      "1.46319829454722e+158\n",
      "2.1216375270934692e+161\n",
      "3.0784960518126236e+164\n",
      "2.705228405530343e+167\n",
      "2.7746626012722885e+170\n",
      "2.0712856318497632e+173\n",
      "2.022265205229319e+176\n",
      "1.960249072268953e+179\n",
      "1.0784636979266356e+182\n",
      "7.84851956166109e+184\n",
      "6.514271236178705e+187\n",
      "6.312328827857166e+190\n",
      "1.4805567265738983e+194\n",
      "2.1468072535321526e+197\n",
      "3.112870517621622e+200\n",
      "4.5152186858101616e+203\n",
      "6.571900797196691e+206\n",
      "1.0754915654612384e+210\n",
      "3.2275501879491765e+212\n",
      "7.570218965834794e+215\n",
      "1.3882940447900363e+218\n",
      "7.559261073881748e+220\n",
      "2.753460846161427e+223\n",
      "5.658362038861732e+225\n",
      "8.326279740185037e+228\n",
      "6.325891032605582e+231\n",
      "4.595759835187956e+234\n",
      "8.077047910342832e+237\n",
      "1.1748066185593648e+241\n",
      "1.1654081656108898e+244\n",
      "5.239342138824957e+246\n",
      "7.618003469851487e+249\n",
      "6.564179656522031e+251\n",
      "6.349749787742311e+254\n",
      "1.1991502474151354e+258\n",
      "1.4050043732214003e+261\n",
      "2.0435788608505267e+264\n",
      "1.9952141611437306e+267\n",
      "3.514427229557457e+269\n",
      "3.5659721622576337e+272\n",
      "2.6129661018942807e+275\n",
      "1.9910801696434418e+278\n",
      "2.8910484063222774e+281\n",
      "1.7468018791884076e+283\n",
      "2.693568497708525e+286\n",
      "3.90836789017507e+289\n",
      "4.830091317608024e+291\n",
      "7.018122684484459e+294\n",
      "1.0204350383240402e+298\n",
      "1.1112537567348799e+301\n",
      "1.612984827900678e+304\n",
      "3.765699194368121e+306\n",
      "inf\n",
      "inf\n",
      "inf\n",
      "inf\n",
      "inf\n"
     ]
    },
    {
     "ename": "ZeroDivisionError",
     "evalue": "float division by zero",
     "output_type": "error",
     "traceback": [
      "\u001b[1;31m---------------------------------------------------------------------------\u001b[0m",
      "\u001b[1;31mZeroDivisionError\u001b[0m                         Traceback (most recent call last)",
      "\u001b[1;32m<ipython-input-54-ba934437d722>\u001b[0m in \u001b[0;36m<module>\u001b[1;34m()\u001b[0m\n\u001b[0;32m      5\u001b[0m     \u001b[1;31m#x.append(z)\u001b[0m\u001b[1;33m\u001b[0m\u001b[1;33m\u001b[0m\u001b[0m\n\u001b[0;32m      6\u001b[0m     \u001b[0mpp\u001b[0m\u001b[1;33m=\u001b[0m\u001b[0mpp\u001b[0m\u001b[1;33m*\u001b[0m\u001b[0mz\u001b[0m\u001b[1;33m\u001b[0m\u001b[0m\n\u001b[1;32m----> 7\u001b[1;33m     \u001b[0mg\u001b[0m\u001b[1;33m=\u001b[0m\u001b[1;36m1.0\u001b[0m\u001b[1;33m/\u001b[0m\u001b[0mpp\u001b[0m\u001b[1;33m\u001b[0m\u001b[0m\n\u001b[0m\u001b[0;32m      8\u001b[0m     \u001b[0mprint\u001b[0m\u001b[1;33m(\u001b[0m\u001b[0mg\u001b[0m\u001b[1;33m)\u001b[0m\u001b[1;33m\u001b[0m\u001b[0m\n",
      "\u001b[1;31mZeroDivisionError\u001b[0m: float division by zero"
     ]
    }
   ],
   "source": [
    "for x in dict2:\n",
    "    y=x.split()\n",
    "    typ=len(dict1)\n",
    "    z=(dict2[x]+1)/(dict1[y[0]]+typ)\n",
    "    #x.append(z)\n",
    "    pp=pp*z\n",
    "    g=1.0/pp\n",
    "    print(g)"
   ]
  },
  {
   "cell_type": "markdown",
   "metadata": {},
   "source": [
    "#Bigram Add1 perplexity"
   ]
  },
  {
   "cell_type": "code",
   "execution_count": 61,
   "metadata": {},
   "outputs": [
    {
     "name": "stdout",
     "output_type": "stream",
     "text": [
      "0.00034494653328734045\n",
      "1.2757109260615693\n"
     ]
    }
   ],
   "source": [
    "da=len(dict1)\n",
    "pow=1/da\n",
    "print(pow)\n",
    "perplexity=3.765699194368121e+306**(pow)\n",
    "print(perplexity)"
   ]
  },
  {
   "cell_type": "code",
   "execution_count": null,
   "metadata": {},
   "outputs": [],
   "source": []
  }
 ],
 "metadata": {
  "kernelspec": {
   "display_name": "Python 3",
   "language": "python",
   "name": "python3"
  },
  "language_info": {
   "codemirror_mode": {
    "name": "ipython",
    "version": 3
   },
   "file_extension": ".py",
   "mimetype": "text/x-python",
   "name": "python",
   "nbconvert_exporter": "python",
   "pygments_lexer": "ipython3",
   "version": "3.6.6"
  }
 },
 "nbformat": 4,
 "nbformat_minor": 2
}
