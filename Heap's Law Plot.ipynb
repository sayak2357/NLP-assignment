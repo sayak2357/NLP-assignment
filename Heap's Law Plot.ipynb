{
 "cells": [
  {
   "cell_type": "markdown",
   "metadata": {},
   "source": [
    "#Import NLTK"
   ]
  },
  {
   "cell_type": "code",
   "execution_count": 183,
   "metadata": {},
   "outputs": [],
   "source": [
    "from nltk.tokenize import sent_tokenize, word_tokenize"
   ]
  },
  {
   "cell_type": "markdown",
   "metadata": {},
   "source": [
    "# Open Book & Tokenize words in Dictionary"
   ]
  },
  {
   "cell_type": "code",
   "execution_count": 184,
   "metadata": {},
   "outputs": [],
   "source": [
    "f = open(\"book.txt\")\n",
    "dict1={'test':1}\n",
    "dict2={'test':1}\n",
    "token_dict1=0\n",
    "token_dict2=0"
   ]
  },
  {
   "cell_type": "markdown",
   "metadata": {},
   "source": [
    "# Make 2 Corpuses by Dividing the Number of Sentences in the BOOK by 2"
   ]
  },
  {
   "cell_type": "code",
   "execution_count": 185,
   "metadata": {},
   "outputs": [
    {
     "name": "stdout",
     "output_type": "stream",
     "text": [
      "8725 4362 4363\n"
     ]
    }
   ],
   "source": [
    "#count number of sentences:\n",
    "sen_count=0\n",
    "for sen in f:\n",
    "    sen_count+=1\n",
    "#end1 & end2 contains the limits of courpus1 and corpus2\n",
    "end1 = int(sen_count/2)\n",
    "end2 = sen_count - end1\n",
    "\n",
    "\n",
    "f.close()\n",
    "f = open(\"book.txt\")\n",
    "print(sen_count,end1,end2)"
   ]
  },
  {
   "cell_type": "markdown",
   "metadata": {},
   "source": [
    "# Calculate vocabulary size as Dictionary Keys i.e Unique words and the Count of the Words as Tokens"
   ]
  },
  {
   "cell_type": "code",
   "execution_count": 186,
   "metadata": {},
   "outputs": [],
   "source": [
    "split=0\n",
    "for sen in f:\n",
    "    split+=1\n",
    "    if split ==end1:\n",
    "        break\n",
    "    \n",
    "    sentences = sent_tokenize(sen)\n",
    "    for words in sentences:\n",
    "        comp_words = word_tokenize(words)\n",
    "        for cw in comp_words:\n",
    "            cw=cw.lower()\n",
    "            if cw.isalpha():\n",
    "                #print(cw)\n",
    "                if cw in dict1:\n",
    "                    inc = dict1[cw]\n",
    "                    inc+=1\n",
    "                    dict1[cw] = inc\n",
    "                    token_dict1+=1\n",
    "                else:\n",
    "                    dict1[cw]=1\n",
    "                    token_dict1+=1"
   ]
  },
  {
   "cell_type": "code",
   "execution_count": 187,
   "metadata": {},
   "outputs": [
    {
     "name": "stdout",
     "output_type": "stream",
     "text": [
      "5010\n"
     ]
    }
   ],
   "source": [
    "print(len(dict1))"
   ]
  },
  {
   "cell_type": "code",
   "execution_count": 188,
   "metadata": {},
   "outputs": [],
   "source": [
    "split=0\n",
    "for sen in f:\n",
    "    split+=1\n",
    "    if split ==end2:\n",
    "        break\n",
    "    \n",
    "    sentences = sent_tokenize(sen)\n",
    "    for words in sentences:\n",
    "        comp_words = word_tokenize(words)\n",
    "        for cw in comp_words:\n",
    "            cw=cw.lower()\n",
    "            if cw.isalpha():\n",
    "                #print(cw)\n",
    "                if cw in dict2:\n",
    "                    inc = dict2[cw]\n",
    "                    inc+=1\n",
    "                    dict2[cw] = inc\n",
    "                    token_dict2+=1\n",
    "                else:\n",
    "                    dict2[cw]=1\n",
    "                    token_dict2+=1"
   ]
  },
  {
   "cell_type": "code",
   "execution_count": 189,
   "metadata": {},
   "outputs": [
    {
     "name": "stdout",
     "output_type": "stream",
     "text": [
      "4676\n"
     ]
    }
   ],
   "source": [
    "print(len(dict2))"
   ]
  },
  {
   "cell_type": "code",
   "execution_count": 190,
   "metadata": {},
   "outputs": [
    {
     "name": "stdout",
     "output_type": "stream",
     "text": [
      "36562 35768\n"
     ]
    }
   ],
   "source": [
    "print(token_dict1,token_dict2)"
   ]
  },
  {
   "cell_type": "code",
   "execution_count": 191,
   "metadata": {},
   "outputs": [],
   "source": [
    "vocabulary1=len(dict1)\n",
    "vocabulary2=len(dict2)"
   ]
  },
  {
   "cell_type": "code",
   "execution_count": 192,
   "metadata": {},
   "outputs": [],
   "source": [
    "dataset_x=[vocabulary1,vocabulary2]\n",
    "dataset_y=[token_dict1,token_dict2]"
   ]
  },
  {
   "cell_type": "code",
   "execution_count": 193,
   "metadata": {},
   "outputs": [],
   "source": [
    "import matplotlib.pyplot as plt"
   ]
  },
  {
   "cell_type": "markdown",
   "metadata": {},
   "source": [
    "# Plot the vocabulary vs token Graph"
   ]
  },
  {
   "cell_type": "code",
   "execution_count": 194,
   "metadata": {},
   "outputs": [
    {
     "data": {
      "image/png": "[encoded data removed]",
      "text/plain": [
       "<Figure size 432x288 with 1 Axes>"
      ]
     },
     "metadata": {},
     "output_type": "display_data"
    }
   ],
   "source": [
    "plt.scatter(dataset_x,dataset_y)\n",
    "plt.title('Relationship Between Temperature and Iced Coffee Sales')\n",
    "\n",
    "\n",
    "plt.xlabel('Vocabulary size')\n",
    "plt.ylabel('Token size')\n",
    "plt.show()"
   ]
  },
  {
   "cell_type": "code",
   "execution_count": null,
   "metadata": {},
   "outputs": [],
   "source": []
  }
 ],
 "metadata": {
  "kernelspec": {
   "display_name": "Python 3",
   "language": "python",
   "name": "python3"
  },
  "language_info": {
   "codemirror_mode": {
    "name": "ipython",
    "version": 3
   },
   "file_extension": ".py",
   "mimetype": "text/x-python",
   "name": "python",
   "nbconvert_exporter": "python",
   "pygments_lexer": "ipython3",
   "version": "3.6.6"
  }
 },
 "nbformat": 4,
 "nbformat_minor": 2
}
