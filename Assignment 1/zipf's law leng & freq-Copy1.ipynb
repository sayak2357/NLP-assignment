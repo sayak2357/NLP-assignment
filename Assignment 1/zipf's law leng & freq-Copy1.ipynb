{
 "cells": [
  {
   "cell_type": "code",
   "execution_count": 24,
   "metadata": {},
   "outputs": [
    {
     "data": {
      "image/png": "[encoded data removed]",
      "text/plain": [
       "<Figure size 432x288 with 1 Axes>"
      ]
     },
     "metadata": {},
     "output_type": "display_data"
    }
   ],
   "source": [
    "# -*- coding: utf-8 -*-\n",
    "\"\"\"\n",
    "Created on Fri Aug 10 21:37:46 2018\n",
    "\n",
    "@author: sayak\n",
    "\"\"\"\n",
    "\n",
    "f = open(\"book.txt\")\n",
    "import operator\n",
    "import re, string\n",
    "def clearup(s, chars):\n",
    "    return re.sub('[%s]' % chars, '', s).lower()\n",
    "\n",
    "dict ={}\n",
    "count = 0\n",
    "#z= f.read()\n",
    "for tem in f:\n",
    "    \n",
    "    word = tem.split()\n",
    "    \n",
    "    for words in word:\n",
    "        #print words\n",
    "        words = words.lower()\n",
    "        words = words.lstrip()\n",
    "        words = words.rstrip()\n",
    "        words = clearup(words, string.punctuation+string.digits)\n",
    "        if words in dict.keys():\n",
    "            inc = dict[words]\n",
    "            inc+=1\n",
    "            dict[words] = inc\n",
    "        else:\n",
    "            dict[words]=1\n",
    "sorted_d = sorted(dict.items(), key=operator.itemgetter(1))\n",
    "des_sorted = sorted_d[::-1]   # sorted_d is a tuple \n",
    "\n",
    "types = 0\n",
    "tokens = 0\n",
    "prod=[]\n",
    "\n",
    "for k,v in des_sorted:\n",
    "    y=len(k)\n",
    "   # print('product of freq & length = ',v*y)\n",
    "    p=v*y\n",
    "    prod.append(p)\n",
    "xval=[]\n",
    "for x in range(0,len(prod)):\n",
    "    xval.append(x)\n",
    "    \n",
    "#print(prod)    \n",
    "#if words in dict.keys():\n",
    " #   types+=1\n",
    " #  tokens+= dict[words]\n",
    "#print(xval)\n",
    "import matplotlib.pyplot as plt\n",
    "plt.scatter(xval,prod)\n",
    "plt.title(\"Zip's Law for Length & Frequency\")\n",
    "plt.ylabel('Product of Length & Frequency')\n",
    "plt.show()\n",
    "\n"
   ]
  },
  {
   "cell_type": "code",
   "execution_count": null,
   "metadata": {},
   "outputs": [],
   "source": []
  }
 ],
 "metadata": {
  "kernelspec": {
   "display_name": "Python 3",
   "language": "python",
   "name": "python3"
  },
  "language_info": {
   "codemirror_mode": {
    "name": "ipython",
    "version": 3
   },
   "file_extension": ".py",
   "mimetype": "text/x-python",
   "name": "python",
   "nbconvert_exporter": "python",
   "pygments_lexer": "ipython3",
   "version": "3.6.6"
  }
 },
 "nbformat": 4,
 "nbformat_minor": 2
}
